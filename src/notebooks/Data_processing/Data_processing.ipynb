{
 "cells": [
  {
   "cell_type": "markdown",
   "id": "b153d9f8-e10b-4348-bdfb-8493039b48aa",
   "metadata": {},
   "source": [
    "'''\n",
    "1.0V\n",
    "\n",
    "Script orientado al PRE-PROCESADO de datos. \n",
    "\n",
    "Acciones realizadas:\n",
    "    1. Limpieza de Datos:\n",
    "        - Identificación y eliminación de valores NaN\n",
    "        - Interpolación lineal para valores faltantes\n",
    "\n",
    "    2. Análisis de Tendencias y Patrones Estacionales\n",
    "        - Resampleo diario y mensual\n",
    "\n",
    "    3. Creación de Nuevas Características\n",
    "\n",
    "    4. Correlación de Características\n",
    "\n",
    "    5. Análisis de Outliers\n",
    "\n",
    "    6. Generación de nuevo csv de datos preprocesados y normalizados.\n",
    "\n",
    "'''"
   ]
  },
  {
   "cell_type": "code",
   "execution_count": null,
   "id": "bd1db667-7496-4dda-9982-60ddd874edf1",
   "metadata": {},
   "outputs": [],
   "source": []
  },
  {
   "cell_type": "code",
   "execution_count": null,
   "id": "856b24f5-a75d-4537-93cb-36fe61f4aeb8",
   "metadata": {},
   "outputs": [],
   "source": []
  },
  {
   "cell_type": "code",
   "execution_count": null,
   "id": "7ef9f889-fca8-4396-a46b-43d61ea2fce5",
   "metadata": {},
   "outputs": [],
   "source": []
  },
  {
   "cell_type": "code",
   "execution_count": null,
   "id": "27a42692-334a-4afe-95b1-4d8ba9ebbf2d",
   "metadata": {},
   "outputs": [],
   "source": []
  },
  {
   "cell_type": "code",
   "execution_count": null,
   "id": "156f7ad8-9d19-4aab-a781-767b3adb1672",
   "metadata": {},
   "outputs": [],
   "source": []
  },
  {
   "cell_type": "code",
   "execution_count": null,
   "id": "9f573deb-dc73-42bb-8ec9-76f71e2ba60b",
   "metadata": {},
   "outputs": [],
   "source": []
  },
  {
   "cell_type": "code",
   "execution_count": null,
   "id": "56329af2-eafa-49c0-ad19-93dcc900944a",
   "metadata": {},
   "outputs": [],
   "source": []
  },
  {
   "cell_type": "markdown",
   "id": "8bc0b726-2559-41e2-80ca-0877a3d5bc56",
   "metadata": {},
   "source": []
  }
 ],
 "metadata": {
  "kernelspec": {
   "display_name": "Python 3 (ipykernel)",
   "language": "python",
   "name": "python3"
  },
  "language_info": {
   "codemirror_mode": {
    "name": "ipython",
    "version": 3
   },
   "file_extension": ".py",
   "mimetype": "text/x-python",
   "name": "python",
   "nbconvert_exporter": "python",
   "pygments_lexer": "ipython3",
   "version": "3.11.9"
  }
 },
 "nbformat": 4,
 "nbformat_minor": 5
}
