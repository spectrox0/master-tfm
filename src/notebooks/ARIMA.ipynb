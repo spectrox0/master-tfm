{
 "cells": [
  {
   "cell_type": "code",
   "execution_count": 7,
   "metadata": {},
   "outputs": [],
   "source": [
    "import pandas as pd\n",
    "import numpy as np\n",
    "from statsmodels.tsa.statespace.sarimax import SARIMAX\n",
    "import matplotlib.pyplot as plt\n",
    "from sklearn.metrics import mean_squared_error"
   ]
  },
  {
   "cell_type": "code",
   "execution_count": 8,
   "metadata": {},
   "outputs": [],
   "source": [
    "from src.utils.load_dataframe import load_dataframe , TimeGranularity"
   ]
  },
  {
   "cell_type": "code",
   "execution_count": 9,
   "metadata": {},
   "outputs": [],
   "source": [
    "df = load_dataframe(sheet_name=TimeGranularity.MIN_15)"
   ]
  },
  {
   "cell_type": "code",
   "execution_count": 10,
   "metadata": {},
   "outputs": [
    {
     "name": "stdout",
     "output_type": "stream",
     "text": [
      "Index(['utc_timestamp', 'cet_cest_timestamp',\n",
      "       'AT_load_actual_entsoe_transparency',\n",
      "       'AT_load_forecast_entsoe_transparency', 'AT_price_day_ahead',\n",
      "       'AT_solar_generation_actual', 'AT_wind_onshore_generation_actual',\n",
      "       'BE_load_actual_entsoe_transparency',\n",
      "       'BE_load_forecast_entsoe_transparency',\n",
      "       'DE_load_actual_entsoe_transparency',\n",
      "       'DE_load_forecast_entsoe_transparency', 'DE_solar_capacity',\n",
      "       'DE_solar_generation_actual', 'DE_solar_profile', 'DE_wind_capacity',\n",
      "       'DE_wind_generation_actual', 'DE_wind_profile',\n",
      "       'DE_wind_offshore_capacity', 'DE_wind_offshore_generation_actual',\n",
      "       'DE_wind_offshore_profile', 'DE_wind_onshore_capacity',\n",
      "       'DE_wind_onshore_generation_actual', 'DE_wind_onshore_profile',\n",
      "       'DE_50hertz_load_actual_entsoe_transparency',\n",
      "       'DE_50hertz_load_forecast_entsoe_transparency',\n",
      "       'DE_50hertz_solar_generation_actual',\n",
      "       'DE_50hertz_wind_generation_actual',\n",
      "       'DE_50hertz_wind_offshore_generation_actual',\n",
      "       'DE_50hertz_wind_onshore_generation_actual',\n",
      "       'DE_LU_load_actual_entsoe_transparency',\n",
      "       'DE_LU_load_forecast_entsoe_transparency',\n",
      "       'DE_LU_solar_generation_actual', 'DE_LU_wind_generation_actual',\n",
      "       'DE_LU_wind_offshore_generation_actual',\n",
      "       'DE_LU_wind_onshore_generation_actual',\n",
      "       'DE_amprion_load_actual_entsoe_transparency',\n",
      "       'DE_amprion_load_forecast_entsoe_transparency',\n",
      "       'DE_amprion_solar_generation_actual',\n",
      "       'DE_amprion_wind_onshore_generation_actual',\n",
      "       'DE_tennet_load_actual_entsoe_transparency',\n",
      "       'DE_tennet_load_forecast_entsoe_transparency',\n",
      "       'DE_tennet_solar_generation_actual', 'DE_tennet_wind_generation_actual',\n",
      "       'DE_tennet_wind_offshore_generation_actual',\n",
      "       'DE_tennet_wind_onshore_generation_actual',\n",
      "       'DE_transnetbw_load_actual_entsoe_transparency',\n",
      "       'DE_transnetbw_load_forecast_entsoe_transparency',\n",
      "       'DE_transnetbw_solar_generation_actual',\n",
      "       'DE_transnetbw_wind_onshore_generation_actual',\n",
      "       'HU_load_actual_entsoe_transparency',\n",
      "       'HU_load_forecast_entsoe_transparency', 'HU_solar_generation_actual',\n",
      "       'HU_wind_onshore_generation_actual',\n",
      "       'LU_load_actual_entsoe_transparency',\n",
      "       'LU_load_forecast_entsoe_transparency',\n",
      "       'NL_load_actual_entsoe_transparency',\n",
      "       'NL_load_forecast_entsoe_transparency', 'NL_solar_generation_actual',\n",
      "       'NL_wind_generation_actual', 'NL_wind_offshore_generation_actual',\n",
      "       'NL_wind_onshore_generation_actual'],\n",
      "      dtype='object')\n"
     ]
    }
   ],
   "source": [
    "print(df.columns)"
   ]
  },
  {
   "cell_type": "code",
   "execution_count": 11,
   "metadata": {},
   "outputs": [],
   "source": [
    "df.columns\n",
    "df['utc_timestamp'] = pd.to_datetime(df['utc_timestamp'], utc=True)\n",
    "df.set_index('utc_timestamp', inplace=True)"
   ]
  },
  {
   "cell_type": "code",
   "execution_count": 12,
   "metadata": {},
   "outputs": [],
   "source": [
    "# Seleccionar la columna que se desea analizar, por ejemplo, 'AT_load_actual_entsoe_transparency'\n",
    "series = df['AT_load_actual_entsoe_transparency'].dropna()"
   ]
  },
  {
   "cell_type": "code",
   "execution_count": 13,
   "metadata": {},
   "outputs": [],
   "source": [
    "# Dividir en datos de entrenamiento y prueba\n",
    "start_time = pd.to_datetime('2018-12-01 00:00:00').tz_localize('UTC')\n",
    "train_data = series[:start_time]\n",
    "test_data = series[start_time:]"
   ]
  },
  {
   "cell_type": "code",
   "execution_count": 14,
   "metadata": {},
   "outputs": [],
   "source": [
    "import itertools\n",
    "# Definir la cuadrícula de parámetros\n",
    "p = d = q = range(0, 4)\n",
    "pdq = list(itertools.product(p, d, q))\n",
    "\n",
    "lowest_aic = np.inf\n",
    "best_pdq = None\n"
   ]
  },
  {
   "cell_type": "code",
   "execution_count": 16,
   "metadata": {},
   "outputs": [
    {
     "name": "stderr",
     "output_type": "stream",
     "text": [
      "/Users/alejandrovelazco/work/master-tesis/.venv/lib/python3.12/site-packages/statsmodels/tsa/base/tsa_model.py:473: ValueWarning: No frequency information was provided, so inferred frequency 15min will be used.\n",
      "  self._init_dates(dates, freq)\n",
      "/Users/alejandrovelazco/work/master-tesis/.venv/lib/python3.12/site-packages/statsmodels/tsa/base/tsa_model.py:473: ValueWarning: No frequency information was provided, so inferred frequency 15min will be used.\n",
      "  self._init_dates(dates, freq)\n"
     ]
    },
    {
     "name": "stdout",
     "output_type": "stream",
     "text": [
      "RUNNING THE L-BFGS-B CODE\n",
      "\n",
      "           * * *\n",
      "\n",
      "Machine precision = 2.220D-16\n",
      " N =            3     M =           10\n",
      "\n",
      "At X0         0 variables are exactly at the bounds\n",
      "\n",
      "At iterate    0    f=  8.74672D+00    |proj g|=  2.04756D-01\n"
     ]
    },
    {
     "name": "stderr",
     "output_type": "stream",
     "text": [
      " This problem is unconstrained.\n"
     ]
    },
    {
     "name": "stdout",
     "output_type": "stream",
     "text": [
      "\n",
      "At iterate    5    f=  8.64477D+00    |proj g|=  1.92632D-01\n"
     ]
    },
    {
     "name": "stderr",
     "output_type": "stream",
     "text": [
      "/Users/alejandrovelazco/work/master-tesis/.venv/lib/python3.12/site-packages/statsmodels/tsa/base/tsa_model.py:473: ValueWarning: No frequency information was provided, so inferred frequency 15min will be used.\n",
      "  self._init_dates(dates, freq)\n",
      "/Users/alejandrovelazco/work/master-tesis/.venv/lib/python3.12/site-packages/statsmodels/tsa/base/tsa_model.py:473: ValueWarning: No frequency information was provided, so inferred frequency 15min will be used.\n",
      "  self._init_dates(dates, freq)\n",
      "/Users/alejandrovelazco/work/master-tesis/.venv/lib/python3.12/site-packages/statsmodels/tsa/statespace/sarimax.py:978: UserWarning: Non-invertible starting MA parameters found. Using zeros as starting parameters.\n",
      "  warn('Non-invertible starting MA parameters found.'\n"
     ]
    },
    {
     "name": "stdout",
     "output_type": "stream",
     "text": [
      "RUNNING THE L-BFGS-B CODE\n",
      "\n",
      "           * * *\n",
      "\n",
      "Machine precision = 2.220D-16\n",
      " N =            4     M =           10\n",
      "\n",
      "At X0         0 variables are exactly at the bounds\n",
      "\n",
      "At iterate    0    f=  8.74542D+00    |proj g|=  1.01757D+00\n"
     ]
    },
    {
     "name": "stderr",
     "output_type": "stream",
     "text": [
      " This problem is unconstrained.\n"
     ]
    },
    {
     "name": "stdout",
     "output_type": "stream",
     "text": [
      "\n",
      "At iterate    5    f=  8.32591D+00    |proj g|=  4.09860D-03\n"
     ]
    },
    {
     "name": "stderr",
     "output_type": "stream",
     "text": [
      "/Users/alejandrovelazco/work/master-tesis/.venv/lib/python3.12/site-packages/statsmodels/tsa/base/tsa_model.py:473: ValueWarning: No frequency information was provided, so inferred frequency 15min will be used.\n",
      "  self._init_dates(dates, freq)\n",
      "/Users/alejandrovelazco/work/master-tesis/.venv/lib/python3.12/site-packages/statsmodels/tsa/base/tsa_model.py:473: ValueWarning: No frequency information was provided, so inferred frequency 15min will be used.\n",
      "  self._init_dates(dates, freq)\n",
      " This problem is unconstrained.\n"
     ]
    },
    {
     "name": "stdout",
     "output_type": "stream",
     "text": [
      "RUNNING THE L-BFGS-B CODE\n",
      "\n",
      "           * * *\n",
      "\n",
      "Machine precision = 2.220D-16\n",
      " N =            5     M =           10\n",
      "\n",
      "At X0         0 variables are exactly at the bounds\n",
      "\n",
      "At iterate    0    f=  8.74567D+00    |proj g|=  1.03311D+00\n"
     ]
    },
    {
     "name": "stderr",
     "output_type": "stream",
     "text": [
      "/Users/alejandrovelazco/work/master-tesis/.venv/lib/python3.12/site-packages/statsmodels/tsa/base/tsa_model.py:473: ValueWarning: No frequency information was provided, so inferred frequency 15min will be used.\n",
      "  self._init_dates(dates, freq)\n",
      "/Users/alejandrovelazco/work/master-tesis/.venv/lib/python3.12/site-packages/statsmodels/tsa/base/tsa_model.py:473: ValueWarning: No frequency information was provided, so inferred frequency 15min will be used.\n",
      "  self._init_dates(dates, freq)\n"
     ]
    }
   ],
   "source": [
    "# Búsqueda de cuadrícula\n",
    "for param in pdq:\n",
    "    try:\n",
    "        model = SARIMAX(train_data, order=param, seasonal_order=(1, 1, 1, 24))\n",
    "        model_fit = model.fit()\n",
    "\n",
    "        # Guardar parámetros del modelo con el AIC más bajo\n",
    "        if model_fit.aic < lowest_aic:\n",
    "            lowest_aic = model_fit.aic\n",
    "            best_pdq = param\n",
    "            best_model = model_fit\n",
    "    except:\n",
    "        continue"
   ]
  },
  {
   "cell_type": "code",
   "execution_count": null,
   "metadata": {},
   "outputs": [
    {
     "name": "stdout",
     "output_type": "stream",
     "text": [
      "Best SARIMA parameters: None\n"
     ]
    },
    {
     "ename": "NameError",
     "evalue": "name 'best_model' is not defined",
     "output_type": "error",
     "traceback": [
      "\u001b[0;31m---------------------------------------------------------------------------\u001b[0m",
      "\u001b[0;31mNameError\u001b[0m                                 Traceback (most recent call last)",
      "Cell \u001b[0;32mIn[15], line 4\u001b[0m\n\u001b[1;32m      1\u001b[0m \u001b[38;5;28;01mimport\u001b[39;00m \u001b[38;5;21;01mjoblib\u001b[39;00m\n\u001b[1;32m      3\u001b[0m \u001b[38;5;28mprint\u001b[39m(\u001b[38;5;124m'\u001b[39m\u001b[38;5;124mBest SARIMA parameters:\u001b[39m\u001b[38;5;124m'\u001b[39m, best_pdq)\n\u001b[0;32m----> 4\u001b[0m joblib\u001b[38;5;241m.\u001b[39mdump(\u001b[43mbest_model\u001b[49m, \u001b[38;5;124mf\u001b[39m\u001b[38;5;124m'\u001b[39m\u001b[38;5;124mmodelos/SARIMA/model_\u001b[39m\u001b[38;5;132;01m{\u001b[39;00mbest_pdq\u001b[38;5;132;01m}\u001b[39;00m\u001b[38;5;124m.joblib\u001b[39m\u001b[38;5;124m'\u001b[39m)\n",
      "\u001b[0;31mNameError\u001b[0m: name 'best_model' is not defined"
     ]
    }
   ],
   "source": [
    "import joblib\n",
    "\n",
    "print('Best SARIMA parameters:', best_pdq)\n",
    "joblib.dump(best_model, f'modelos/SARIMA/model_{best_pdq}.joblib')"
   ]
  },
  {
   "cell_type": "code",
   "execution_count": null,
   "metadata": {},
   "outputs": [],
   "source": [
    "# Cargar el mejor modelo\n",
    "model = joblib.load(f'modelos/SARIMA/model_{best_pdq}.joblib')"
   ]
  },
  {
   "cell_type": "code",
   "execution_count": null,
   "metadata": {},
   "outputs": [],
   "source": [
    "# Realizar predicciones para un rango de tiempo dado\n",
    "end_time = pd.to_datetime('2018-12-02 00:00:00').tz_localize('UTC')\n",
    "predictions = model.get_prediction(start=start_time, end=end_time)"
   ]
  },
  {
   "cell_type": "code",
   "execution_count": null,
   "metadata": {},
   "outputs": [],
   "source": [
    "\n",
    "# Calcular el MSE\n",
    "mse = mean_squared_error(test_data[start_time:end_time], predictions.predicted_mean)\n",
    "print('Mean Squared Error: ', mse)\n",
    "\n",
    "# Graficar predicciones vs valores reales\n",
    "plt.figure(figsize=(10, 6))\n",
    "plt.plot(predictions.predicted_mean, label='Predictions')\n",
    "plt.plot(test_data[start_time:end_time], label='Actual values')\n",
    "plt.title('Predictions vs Actual values')\n",
    "plt.xlabel('Time')\n",
    "plt.ylabel('Energy demand')\n",
    "plt.legend()\n",
    "plt.show()"
   ]
  }
 ],
 "metadata": {
  "kernelspec": {
   "display_name": ".venv",
   "language": "python",
   "name": "python3"
  },
  "language_info": {
   "codemirror_mode": {
    "name": "ipython",
    "version": 3
   },
   "file_extension": ".py",
   "mimetype": "text/x-python",
   "name": "python",
   "nbconvert_exporter": "python",
   "pygments_lexer": "ipython3",
   "version": "3.12.4"
  }
 },
 "nbformat": 4,
 "nbformat_minor": 2
}
